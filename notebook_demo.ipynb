{
 "cells": [
  {
   "cell_type": "code",
   "execution_count": null,
   "metadata": {},
   "outputs": [],
   "source": [
    "%matplotlib qt\n",
    "import matplotlib.pyplot as plt\n",
    "import cv2\n",
    "from kitti_object import kitti_object, show_lidar_with_depth, show_lidar_on_image, \\\n",
    "                         show_image_with_boxes, show_lidar_topview_with_boxes\n",
    "import os\n",
    "os.environ['QT_QPA_PLATFORM_PLUGIN_PATH'] = os.path.join('/home/alper/Desktop/Works/venvs/Points', 'plugins', 'platforms')                 \n",
    "\n",
    "from mayavi import mlab\n"
   ]
  },
  {
   "cell_type": "code",
   "execution_count": null,
   "metadata": {},
   "outputs": [],
   "source": []
  },
  {
   "cell_type": "code",
   "execution_count": null,
   "metadata": {},
   "outputs": [
    {
     "name": "stdout",
     "output_type": "stream",
     "text": [
      "./data/object training\n",
      "./data/object/training/velodyne/000000.bin\n",
      "('All point num: ', 115384)\n",
      "('FOV point num: ', (20285, 4))\n",
      "pc_velo (20285, 4)\n",
      "==================== (20285, 4)\n",
      "box3d_pts_3d_velo:\n",
      "[[ 8.96440459 -2.45859462 -1.60867186]\n",
      " [ 8.48444353 -2.45306157 -1.60607081]\n",
      " [ 8.49835837 -1.25324031 -1.59072653]\n",
      " [ 8.97831943 -1.25877336 -1.59332758]\n",
      " [ 8.97436611 -2.48287864  0.28114573]\n",
      " [ 8.49440505 -2.47734559  0.28374677]\n",
      " [ 8.50831989 -1.27752433  0.29909105]\n",
      " [ 8.98828095 -1.28305738  0.29649   ]]\n"
     ]
    }
   ],
   "source": [
    "dataset = kitti_object('./data/object', 'training')\n",
    "\n",
    "data_idx = 0\n",
    "objects = dataset.get_label_objects(data_idx)\n",
    "pc_velo = dataset.get_lidar(data_idx)\n",
    "calib = dataset.get_calibration(data_idx)\n",
    "img = dataset.get_image(data_idx)\n",
    "img_height, img_width, _ = img.shape\n",
    "\n",
    "\n",
    "fig_3d = mlab.figure(bgcolor=(0, 0, 0), size=(800, 450))\n",
    "show_lidar_with_depth(pc_velo, objects, calib, fig_3d, True, img_width, img_height)\n",
    "#mlab.show()\n",
    "mlab.draw()"
   ]
  },
  {
   "cell_type": "code",
   "execution_count": null,
   "metadata": {},
   "outputs": [],
   "source": [
    "import PyQt5\n",
    "os.environ['QT_QPA_PLATFORM_PLUGIN_PATH'] = os.path.dirname(PyQt5.__file__) + \"/Qt/plugins/platforms\"\n"
   ]
  },
  {
   "cell_type": "code",
   "execution_count": 6,
   "metadata": {},
   "outputs": [
    {
     "ename": "",
     "evalue": "",
     "output_type": "error",
     "traceback": [
      "\u001b[1;31mCanceled future for execute_request message before replies were done"
     ]
    },
    {
     "ename": "",
     "evalue": "",
     "output_type": "error",
     "traceback": [
      "\u001b[1;31mThe Kernel crashed while executing code in the the current cell or a previous cell. Please review the code in the cell(s) to identify a possible cause of the failure. Click <a href='https://aka.ms/vscodeJupyterKernelCrash'>here</a> for more info. View Jupyter <a href='command:jupyter.viewOutput'>log</a> for further details."
     ]
    }
   ],
   "source": [
    "\n",
    "img_lidar = show_lidar_on_image(pc_velo[:, :3], img, calib, img_width, img_height)"
   ]
  },
  {
   "cell_type": "code",
   "execution_count": 3,
   "metadata": {},
   "outputs": [
    {
     "ename": "",
     "evalue": "",
     "output_type": "error",
     "traceback": [
      "\u001b[1;31mCanceled future for execute_request message before replies were done"
     ]
    },
    {
     "ename": "",
     "evalue": "",
     "output_type": "error",
     "traceback": [
      "\u001b[1;31mThe Kernel crashed while executing code in the the current cell or a previous cell. Please review the code in the cell(s) to identify a possible cause of the failure. Click <a href='https://aka.ms/vscodeJupyterKernelCrash'>here</a> for more info. View Jupyter <a href='command:jupyter.viewOutput'>log</a> for further details."
     ]
    }
   ],
   "source": [
    "!export QT_QPA_PLATFORM=offscreen\n",
    "img_lidar = show_lidar_on_image(pc_velo[:, :3], img, calib, img_width, img_height)"
   ]
  },
  {
   "cell_type": "code",
   "execution_count": 11,
   "metadata": {},
   "outputs": [
    {
     "data": {
      "text/plain": [
       "<matplotlib.image.AxesImage at 0x7ff696a0e980>"
      ]
     },
     "execution_count": 11,
     "metadata": {},
     "output_type": "execute_result"
    }
   ],
   "source": [
    "img_lidar = cv2.cvtColor(img_lidar, cv2.COLOR_BGR2RGB)\n",
    "\n",
    "fig_lidar = plt.figure(figsize=(14, 7))\n",
    "ax_lidar = fig_lidar.subplots()\n",
    "ax_lidar.imshow(img_lidar)\n"
   ]
  },
  {
   "cell_type": "code",
   "execution_count": 12,
   "metadata": {},
   "outputs": [],
   "source": [
    "img_bbox2d, img_bbox3d = show_image_with_boxes(img, objects, calib)\n",
    "img_bbox2d = cv2.cvtColor(img_bbox2d, cv2.COLOR_BGR2RGB)\n",
    "\n",
    "fig_bbox2d = plt.figure(figsize=(14, 7))\n",
    "ax_bbox2d = fig_bbox2d.subplots()\n",
    "ax_bbox2d.imshow(img_bbox2d)\n",
    "plt.show()"
   ]
  },
  {
   "cell_type": "code",
   "execution_count": null,
   "metadata": {},
   "outputs": [],
   "source": [
    "img_bbox3d = cv2.cvtColor(img_bbox3d, cv2.COLOR_BGR2RGB)\n",
    "\n",
    "fig_bbox3d = plt.figure(figsize=(14, 7))\n",
    "ax_bbox3d = fig_bbox3d.subplots()\n",
    "ax_bbox3d.imshow(img_bbox3d)\n",
    "plt.show()"
   ]
  },
  {
   "cell_type": "code",
   "execution_count": 13,
   "metadata": {},
   "outputs": [
    {
     "name": "stdout",
     "output_type": "stream",
     "text": [
      "top_image: (500, 300, 3)\n"
     ]
    }
   ],
   "source": [
    "img_bev = show_lidar_topview_with_boxes(pc_velo, objects, calib)\n",
    "\n",
    "fig_bev = plt.figure(figsize=(7, 7))\n",
    "ax_bev = fig_bev.subplots()\n",
    "ax_bev.imshow(img_bev)\n",
    "plt.show()"
   ]
  },
  {
   "cell_type": "code",
   "execution_count": null,
   "metadata": {},
   "outputs": [],
   "source": []
  }
 ],
 "metadata": {
  "kernelspec": {
   "display_name": "Python 3",
   "language": "python",
   "name": "python3"
  },
  "language_info": {
   "codemirror_mode": {
    "name": "ipython",
    "version": 3
   },
   "file_extension": ".py",
   "mimetype": "text/x-python",
   "name": "python",
   "nbconvert_exporter": "python",
   "pygments_lexer": "ipython3",
   "version": "3.10.6"
  }
 },
 "nbformat": 4,
 "nbformat_minor": 4
}
